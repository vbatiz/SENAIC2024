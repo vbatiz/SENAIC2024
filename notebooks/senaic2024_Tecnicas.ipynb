{
 "cells": [
  {
   "cell_type": "markdown",
   "metadata": {},
   "source": [
    "# Herramientas generales para la generación del corpus.\n",
    "\n",
    "**Investigadores**: <br>\n",
    "  Dr. Ramón Zatarain Cabada<br>\n",
    "  Dra. María Lucía Barrón Estrada<br>\n",
    "  M.C. Víctor Manuel Bátiz Beltrán"
   ]
  }
 ],
 "metadata": {
  "language_info": {
   "name": "python"
  }
 },
 "nbformat": 4,
 "nbformat_minor": 2
}
