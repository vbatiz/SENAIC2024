{
 "cells": [
  {
   "cell_type": "markdown",
   "metadata": {},
   "source": [
    "## Aplicación de Transformers en Computación Afectiva\n",
    "\n",
    "![Python](https://www.python.org/static/img/python-logo.png)"
   ]
  },
  {
   "cell_type": "markdown",
   "metadata": {},
   "source": [
    "## Índice\n",
    "\n",
    "### Aplicación de Transformers en Computación Afectiva\n",
    "\n",
    "**Cuaderno 1**\n",
    "\n",
    "[Ejemplo de análisis de sentimiento utilizando la biblioteca TextBlob](atca_01.ipynb)\n",
    "\n",
    "**Cuaderno 2**\n",
    "\n",
    "[Ejemplo de Question answering utilizando Transformers](atca_02.ipynb)"
   ]
  }
 ],
 "metadata": {
  "language_info": {
   "name": "python"
  }
 },
 "nbformat": 4,
 "nbformat_minor": 2
}
